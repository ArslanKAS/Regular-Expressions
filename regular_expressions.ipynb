{
 "cells": [
  {
   "cell_type": "raw",
   "metadata": {},
   "source": [
    "---\n",
    "title: \"Regex Demo\"\n",
    "format:\n",
    "    pdf:\n",
    "        code-fold: false\n",
    "execute:\n",
    "    enabled: false\n",
    "jupyter: python 3\n",
    "---"
   ]
  },
  {
   "cell_type": "markdown",
   "metadata": {},
   "source": [
    "Site to play with regex: https://regex101.com/"
   ]
  },
  {
   "cell_type": "markdown",
   "metadata": {},
   "source": [
    "## 1- Importing Regex Module"
   ]
  },
  {
   "cell_type": "code",
   "execution_count": 1,
   "metadata": {},
   "outputs": [],
   "source": [
    "# Imporintg Regex library\n",
    "import re"
   ]
  },
  {
   "cell_type": "markdown",
   "metadata": {},
   "source": [
    "### 1.1 Creating a custom string"
   ]
  },
  {
   "cell_type": "code",
   "execution_count": 85,
   "metadata": {},
   "outputs": [],
   "source": [
    "text_to_search = '''\n",
    "abcdefghijklmnopqurtuvwxyz\n",
    "Yo Yo Yo\n",
    "ABCDEFGHIJKLMNOPQRSTUVWXYZ\n",
    "1234567890\n",
    "Ha HaHa\n",
    "Carrot MyCarrot\n",
    "MetaCharacters (Need to be escaped):\n",
    ". ^ $ * + ? { } [ ] \\ | ( )\n",
    "coreyms.com\n",
    "321-555-4321\n",
    "123.555.1234\n",
    "123*555*1234\n",
    "800-555-1234\n",
    "900-555-1234\n",
    "cat\n",
    "mat\n",
    "rat\n",
    "bat\n",
    "Mr. Schafer\n",
    "Mr Smith\n",
    "Ms Davis\n",
    "Mrs. Robinson\n",
    "Mr. T\n",
    "'''"
   ]
  },
  {
   "cell_type": "markdown",
   "metadata": {},
   "source": [
    "### 1.2 Applying regex to find desired pattern"
   ]
  },
  {
   "cell_type": "code",
   "execution_count": 3,
   "metadata": {},
   "outputs": [
    {
     "name": "stdout",
     "output_type": "stream",
     "text": [
      "<re.Match object; span=(51, 54), match='XYZ'>\n"
     ]
    }
   ],
   "source": [
    "# \"re\" stands for regex. \"r\" before XYZ makes it Raw-String\n",
    "search = re.compile(r\"XYZ\")\n",
    "\n",
    "# Finditer tries to search for the Indices of the pattern we want to find\n",
    "matches = search.finditer(text_to_search)\n",
    "\n",
    "# Looping through the matches to get the information of exact indices from the string of our pattern\n",
    "for match in matches:\n",
    "    print(match)"
   ]
  },
  {
   "cell_type": "markdown",
   "metadata": {},
   "source": [
    "## 2- Meta-characters: \n",
    "**. ^ $ * + ? { } [ ] \\ | ( )**\n",
    "<br>They need to be escaped otherwise we get weird results"
   ]
  },
  {
   "cell_type": "code",
   "execution_count": 4,
   "metadata": {},
   "outputs": [
    {
     "name": "stdout",
     "output_type": "stream",
     "text": [
      "<re.Match object; span=(111, 112), match='.'>\n",
      "<re.Match object; span=(146, 147), match='.'>\n",
      "<re.Match object; span=(167, 168), match='.'>\n",
      "<re.Match object; span=(171, 172), match='.'>\n",
      "<re.Match object; span=(218, 219), match='.'>\n",
      "<re.Match object; span=(249, 250), match='.'>\n",
      "<re.Match object; span=(262, 263), match='.'>\n"
     ]
    }
   ],
   "source": [
    "# In order to escape meta characters we use backslash \\\n",
    "search = re.compile(r\"\\.\")\n",
    "matches = search.finditer(text_to_search)\n",
    "for match in matches:\n",
    "    print(match)"
   ]
  },
  {
   "cell_type": "markdown",
   "metadata": {},
   "source": [
    "### 2.1 For finding a URL"
   ]
  },
  {
   "cell_type": "code",
   "execution_count": 5,
   "metadata": {},
   "outputs": [
    {
     "name": "stdout",
     "output_type": "stream",
     "text": [
      "<re.Match object; span=(139, 150), match='coreyms.com'>\n"
     ]
    }
   ],
   "source": [
    "# In order to escape meta characters we use backslash \\\n",
    "search = re.compile(r\"coreyms\\.com\")\n",
    "matches = search.finditer(text_to_search)\n",
    "for match in matches:\n",
    "    print(match)"
   ]
  },
  {
   "cell_type": "markdown",
   "metadata": {},
   "source": [
    "## 3- Special Characters\n",
    "* .       - Period Means Any Character Except New Line\n",
    "* \\d      - Digit (0-9)\n",
    "* \\D      - Not a Digit (0-9)\n",
    "* \\w      - Word Character (a-z, A-Z, 0-9, _)\n",
    "* \\W      - Not a Word Character\n",
    "* \\s      - Whitespace (space, tab, newline)\n",
    "* \\S      - Not Whitespace (space, tab, newline)\n",
    "* \n",
    "* \\b      - Word Boundary (No characters before it)\n",
    "* \\B      - Not a Word Boundary (Has characters before it)\n",
    "* ^       - Begining of a string\n",
    "* $       - End of a string\n",
    "* \n",
    "* [ ]     - Matches characters inside the bracket\n",
    "* [^ ]    - Not Matches characters inside the bracket\n",
    "* |       - Either OR\n",
    "* ( )     - Group\n",
    "### **Quantifiers**\n",
    "* \\*      - 0 ore more\n",
    "* \\+      - 1 or more\n",
    "* ?       - 0 or 1\n",
    "* {3}     - Exact number of times\n",
    "* {3,4}   - Range of numbers\n"
   ]
  },
  {
   "cell_type": "markdown",
   "metadata": {},
   "source": [
    "### 3.1 Word Boundary \\b is used to get characters that've no characters before them."
   ]
  },
  {
   "cell_type": "code",
   "execution_count": 41,
   "metadata": {},
   "outputs": [
    {
     "name": "stdout",
     "output_type": "stream",
     "text": [
      "<re.Match object; span=(66, 68), match='Ha'>\n",
      "<re.Match object; span=(69, 71), match='Ha'>\n"
     ]
    }
   ],
   "source": [
    "# NOTE: \\B does the opposite of \\b i.e., \"\\BHa\"\n",
    "search = re.compile(r\"\\bHa\")\n",
    "matches = search.finditer(text_to_search)\n",
    "for match in matches:\n",
    "    print(match)"
   ]
  },
  {
   "cell_type": "markdown",
   "metadata": {},
   "source": [
    "### 3.2 The carrot ^ can be used to match the beginning of a string"
   ]
  },
  {
   "cell_type": "code",
   "execution_count": 42,
   "metadata": {},
   "outputs": [
    {
     "name": "stdout",
     "output_type": "stream",
     "text": [
      "<re.Match object; span=(0, 5), match='Start'>\n"
     ]
    }
   ],
   "source": [
    "# NOTE: $ does the opposite of ^ i.e., \"end$\"\n",
    "sentence = \"Start of everything eventually comes to an end\"\n",
    "search = re.compile(r\"^Start\")\n",
    "matches = search.finditer(sentence)\n",
    "for match in matches:\n",
    "    print(match)"
   ]
  },
  {
   "cell_type": "markdown",
   "metadata": {},
   "source": [
    "### 3.3 Using character set [ ] while finding phone numbers"
   ]
  },
  {
   "cell_type": "code",
   "execution_count": 6,
   "metadata": {},
   "outputs": [
    {
     "name": "stdout",
     "output_type": "stream",
     "text": [
      "<re.Match object; span=(151, 162), match='321-555-432'>\n",
      "<re.Match object; span=(164, 175), match='123.555.123'>\n",
      "<re.Match object; span=(190, 201), match='800-555-123'>\n",
      "<re.Match object; span=(203, 214), match='900-555-123'>\n"
     ]
    }
   ],
   "source": [
    "# In order to escape meta characters we use backslash \\\n",
    "# Below the [] is the character set: Where we can use custom characters to be found\n",
    "search = re.compile(r\"\\d\\d\\d[-.]\\d\\d\\d[.-]\\d\\d\\d\") \n",
    "matches = search.finditer(text_to_search)\n",
    "for match in matches:\n",
    "    print(match)"
   ]
  },
  {
   "cell_type": "markdown",
   "metadata": {},
   "source": [
    "### 3.4 Grabbing all phone numbers from a Text file"
   ]
  },
  {
   "cell_type": "code",
   "execution_count": 73,
   "metadata": {},
   "outputs": [
    {
     "name": "stdout",
     "output_type": "stream",
     "text": [
      "<re.Match object; span=(12, 23), match='615-555-716'>\n",
      "<re.Match object; span=(102, 113), match='800-555-566'>\n",
      "<re.Match object; span=(191, 202), match='560-555-515'>\n",
      "<re.Match object; span=(281, 292), match='900-555-934'>\n",
      "<re.Match object; span=(378, 389), match='714-555-740'>\n",
      "<re.Match object; span=(467, 478), match='800-555-677'>\n",
      "<re.Match object; span=(557, 568), match='783-555-479'>\n",
      "<re.Match object; span=(647, 658), match='516-555-461'>\n",
      "<re.Match object; span=(740, 751), match='127-555-186'>\n",
      "<re.Match object; span=(831, 842), match='608-555-493'>\n",
      "<re.Match object; span=(917, 928), match='568-555-605'>\n",
      "<re.Match object; span=(1005, 1016), match='292-555-187'>\n",
      "<re.Match object; span=(1093, 1104), match='900-555-320'>\n",
      "<re.Match object; span=(1182, 1193), match='614-555-116'>\n",
      "<re.Match object; span=(1273, 1284), match='530-555-267'>\n",
      "<re.Match object; span=(1359, 1370), match='470-555-275'>\n",
      "<re.Match object; span=(1443, 1454), match='800-555-608'>\n",
      "<re.Match object; span=(1530, 1541), match='880-555-831'>\n",
      "<re.Match object; span=(1618, 1629), match='777-555-837'>\n",
      "<re.Match object; span=(1701, 1712), match='998-555-738'>\n",
      "<re.Match object; span=(1794, 1805), match='800-555-710'>\n",
      "<re.Match object; span=(1878, 1889), match='903-555-827'>\n",
      "<re.Match object; span=(1966, 1977), match='196-555-567'>\n",
      "<re.Match object; span=(2055, 2066), match='900-555-511'>\n",
      "<re.Match object; span=(2139, 2150), match='905-555-163'>\n",
      "<re.Match object; span=(2220, 2231), match='203-555-347'>\n",
      "<re.Match object; span=(2304, 2315), match='884-555-844'>\n",
      "<re.Match object; span=(2391, 2402), match='904-555-855'>\n",
      "<re.Match object; span=(2479, 2490), match='889-555-739'>\n",
      "<re.Match object; span=(2566, 2577), match='195-555-240'>\n",
      "<re.Match object; span=(2651, 2662), match='321-555-905'>\n",
      "<re.Match object; span=(2738, 2749), match='133-555-171'>\n",
      "<re.Match object; span=(2830, 2841), match='900-555-542'>\n",
      "<re.Match object; span=(2919, 2930), match='760-555-714'>\n",
      "<re.Match object; span=(3018, 3029), match='391-555-662'>\n",
      "<re.Match object; span=(3109, 3120), match='932-555-772'>\n",
      "<re.Match object; span=(3198, 3209), match='609-555-790'>\n",
      "<re.Match object; span=(3290, 3301), match='800-555-881'>\n",
      "<re.Match object; span=(3378, 3389), match='149-555-765'>\n",
      "<re.Match object; span=(3458, 3469), match='130-555-970'>\n",
      "<re.Match object; span=(3541, 3552), match='143-555-929'>\n",
      "<re.Match object; span=(3630, 3641), match='903-555-987'>\n",
      "<re.Match object; span=(3720, 3731), match='574-555-319'>\n",
      "<re.Match object; span=(3808, 3819), match='496-555-753'>\n",
      "<re.Match object; span=(3893, 3904), match='210-555-375'>\n",
      "<re.Match object; span=(3977, 3988), match='900-555-959'>\n",
      "<re.Match object; span=(4062, 4073), match='866-555-984'>\n",
      "<re.Match object; span=(4146, 4157), match='669-555-715'>\n",
      "<re.Match object; span=(4231, 4242), match='152-555-741'>\n",
      "<re.Match object; span=(4323, 4334), match='893-555-983'>\n",
      "<re.Match object; span=(4413, 4424), match='217-555-712'>\n",
      "<re.Match object; span=(4504, 4515), match='786-555-654'>\n",
      "<re.Match object; span=(4594, 4605), match='780-555-257'>\n",
      "<re.Match object; span=(4682, 4693), match='926-555-873'>\n",
      "<re.Match object; span=(4768, 4779), match='895-555-353'>\n",
      "<re.Match object; span=(4865, 4876), match='874-555-394'>\n",
      "<re.Match object; span=(4951, 4962), match='800-555-242'>\n",
      "<re.Match object; span=(5040, 5051), match='936-555-634'>\n",
      "<re.Match object; span=(5129, 5140), match='372-555-980'>\n",
      "<re.Match object; span=(5216, 5227), match='890-555-561'>\n",
      "<re.Match object; span=(5298, 5309), match='670-555-300'>\n",
      "<re.Match object; span=(5388, 5399), match='509-555-599'>\n",
      "<re.Match object; span=(5481, 5492), match='721-555-563'>\n",
      "<re.Match object; span=(5572, 5583), match='900-555-356'>\n",
      "<re.Match object; span=(5662, 5673), match='147-555-683'>\n",
      "<re.Match object; span=(5751, 5762), match='582-555-342'>\n",
      "<re.Match object; span=(5836, 5847), match='400-555-170'>\n",
      "<re.Match object; span=(5927, 5938), match='525-555-179'>\n",
      "<re.Match object; span=(6017, 6028), match='317-555-670'>\n",
      "<re.Match object; span=(6105, 6116), match='974-555-830'>\n",
      "<re.Match object; span=(6195, 6206), match='800-555-321'>\n",
      "<re.Match object; span=(6281, 6292), match='746-555-409'>\n",
      "<re.Match object; span=(6368, 6379), match='922-555-177'>\n",
      "<re.Match object; span=(6453, 6464), match='711-555-442'>\n",
      "<re.Match object; span=(6538, 6549), match='355-555-187'>\n",
      "<re.Match object; span=(6627, 6638), match='852-555-652'>\n",
      "<re.Match object; span=(6719, 6730), match='691-555-577'>\n",
      "<re.Match object; span=(6811, 6822), match='332-555-544'>\n",
      "<re.Match object; span=(6897, 6908), match='900-555-775'>\n",
      "<re.Match object; span=(6979, 6990), match='379-555-368'>\n",
      "<re.Match object; span=(7069, 7080), match='127-555-968'>\n",
      "<re.Match object; span=(7160, 7171), match='789-555-703'>\n",
      "<re.Match object; span=(7251, 7262), match='783-555-513'>\n",
      "<re.Match object; span=(7344, 7355), match='315-555-650'>\n",
      "<re.Match object; span=(7435, 7446), match='481-555-583'>\n",
      "<re.Match object; span=(7523, 7534), match='365-555-828'>\n",
      "<re.Match object; span=(7615, 7626), match='911-555-753'>\n",
      "<re.Match object; span=(7701, 7712), match='681-555-246'>\n",
      "<re.Match object; span=(7787, 7798), match='274-555-980'>\n",
      "<re.Match object; span=(7872, 7883), match='800-555-137'>\n",
      "<re.Match object; span=(7961, 7972), match='300-555-782'>\n",
      "<re.Match object; span=(8051, 8062), match='133-555-388'>\n",
      "<re.Match object; span=(8139, 8150), match='705-555-686'>\n",
      "<re.Match object; span=(8228, 8239), match='215-555-944'>\n",
      "<re.Match object; span=(8319, 8330), match='988-555-611'>\n",
      "<re.Match object; span=(8405, 8416), match='623-555-300'>\n",
      "<re.Match object; span=(8489, 8500), match='192-555-497'>\n",
      "<re.Match object; span=(8574, 8585), match='178-555-489'>\n",
      "<re.Match object; span=(8658, 8669), match='952-555-308'>\n",
      "<re.Match object; span=(8751, 8762), match='900-555-642'>\n"
     ]
    }
   ],
   "source": [
    "with open(\"data.txt\", \"r\") as f:\n",
    "    text = f.read()\n",
    "    search = re.compile(r\"\\d\\d\\d.\\d\\d\\d.\\d\\d\\d\")\n",
    "    matches = search.finditer(text)\n",
    "    for match in matches:\n",
    "     print(match)\n",
    "    f.close()"
   ]
  },
  {
   "cell_type": "markdown",
   "metadata": {},
   "source": [
    "### 3.5 Grabbing all phone numbers that have a common prefix"
   ]
  },
  {
   "cell_type": "code",
   "execution_count": 17,
   "metadata": {},
   "outputs": [
    {
     "name": "stdout",
     "output_type": "stream",
     "text": [
      "<re.Match object; span=(190, 201), match='800-555-123'>\n",
      "<re.Match object; span=(203, 214), match='900-555-123'>\n"
     ]
    }
   ],
   "source": [
    "# Below the [] is the character set: Where we can use custom characters to be found\n",
    "search = re.compile(r\"[89]00[-.]\\d\\d\\d[.-]\\d\\d\\d\") \n",
    "matches = search.finditer(text_to_search)\n",
    "for match in matches:\n",
    "    print(match)"
   ]
  },
  {
   "cell_type": "markdown",
   "metadata": {},
   "source": [
    "### 3.6 Grabbing all phone numbers that have a common prefix from a file"
   ]
  },
  {
   "cell_type": "code",
   "execution_count": 72,
   "metadata": {},
   "outputs": [
    {
     "name": "stdout",
     "output_type": "stream",
     "text": [
      "<re.Match object; span=(102, 113), match='800-555-566'>\n",
      "<re.Match object; span=(281, 292), match='900-555-934'>\n",
      "<re.Match object; span=(467, 478), match='800-555-677'>\n",
      "<re.Match object; span=(1093, 1104), match='900-555-320'>\n",
      "<re.Match object; span=(1443, 1454), match='800-555-608'>\n",
      "<re.Match object; span=(1794, 1805), match='800-555-710'>\n",
      "<re.Match object; span=(2055, 2066), match='900-555-511'>\n",
      "<re.Match object; span=(2830, 2841), match='900-555-542'>\n",
      "<re.Match object; span=(3290, 3301), match='800-555-881'>\n",
      "<re.Match object; span=(3977, 3988), match='900-555-959'>\n",
      "<re.Match object; span=(4951, 4962), match='800-555-242'>\n",
      "<re.Match object; span=(5572, 5583), match='900-555-356'>\n",
      "<re.Match object; span=(6195, 6206), match='800-555-321'>\n",
      "<re.Match object; span=(6897, 6908), match='900-555-775'>\n",
      "<re.Match object; span=(7872, 7883), match='800-555-137'>\n",
      "<re.Match object; span=(8751, 8762), match='900-555-642'>\n"
     ]
    }
   ],
   "source": [
    "with open(\"data.txt\", \"r\") as f:\n",
    "    text = f.read()\n",
    "    search = re.compile(r\"[89]00[-.]\\d\\d\\d[-.]\\d\\d\\d\")\n",
    "    matches = search.finditer(text)\n",
    "    for match in matches:\n",
    "     print(match)\n",
    "    f.close()"
   ]
  },
  {
   "cell_type": "markdown",
   "metadata": {},
   "source": [
    "### 3.7 Using a range for digits and characters"
   ]
  },
  {
   "cell_type": "code",
   "execution_count": 24,
   "metadata": {},
   "outputs": [
    {
     "name": "stdout",
     "output_type": "stream",
     "text": [
      "<re.Match object; span=(55, 56), match='1'>\n",
      "<re.Match object; span=(56, 57), match='2'>\n",
      "<re.Match object; span=(57, 58), match='3'>\n",
      "<re.Match object; span=(58, 59), match='4'>\n",
      "<re.Match object; span=(59, 60), match='5'>\n",
      "<re.Match object; span=(151, 152), match='3'>\n",
      "<re.Match object; span=(152, 153), match='2'>\n",
      "<re.Match object; span=(153, 154), match='1'>\n",
      "<re.Match object; span=(155, 156), match='5'>\n",
      "<re.Match object; span=(156, 157), match='5'>\n",
      "<re.Match object; span=(157, 158), match='5'>\n",
      "<re.Match object; span=(159, 160), match='4'>\n",
      "<re.Match object; span=(160, 161), match='3'>\n",
      "<re.Match object; span=(161, 162), match='2'>\n",
      "<re.Match object; span=(162, 163), match='1'>\n",
      "<re.Match object; span=(164, 165), match='1'>\n",
      "<re.Match object; span=(165, 166), match='2'>\n",
      "<re.Match object; span=(166, 167), match='3'>\n",
      "<re.Match object; span=(168, 169), match='5'>\n",
      "<re.Match object; span=(169, 170), match='5'>\n",
      "<re.Match object; span=(170, 171), match='5'>\n",
      "<re.Match object; span=(172, 173), match='1'>\n",
      "<re.Match object; span=(173, 174), match='2'>\n",
      "<re.Match object; span=(174, 175), match='3'>\n",
      "<re.Match object; span=(175, 176), match='4'>\n",
      "<re.Match object; span=(177, 178), match='1'>\n",
      "<re.Match object; span=(178, 179), match='2'>\n",
      "<re.Match object; span=(179, 180), match='3'>\n",
      "<re.Match object; span=(181, 182), match='5'>\n",
      "<re.Match object; span=(182, 183), match='5'>\n",
      "<re.Match object; span=(183, 184), match='5'>\n",
      "<re.Match object; span=(185, 186), match='1'>\n",
      "<re.Match object; span=(186, 187), match='2'>\n",
      "<re.Match object; span=(187, 188), match='3'>\n",
      "<re.Match object; span=(188, 189), match='4'>\n",
      "<re.Match object; span=(194, 195), match='5'>\n",
      "<re.Match object; span=(195, 196), match='5'>\n",
      "<re.Match object; span=(196, 197), match='5'>\n",
      "<re.Match object; span=(198, 199), match='1'>\n",
      "<re.Match object; span=(199, 200), match='2'>\n",
      "<re.Match object; span=(200, 201), match='3'>\n",
      "<re.Match object; span=(201, 202), match='4'>\n",
      "<re.Match object; span=(207, 208), match='5'>\n",
      "<re.Match object; span=(208, 209), match='5'>\n",
      "<re.Match object; span=(209, 210), match='5'>\n",
      "<re.Match object; span=(211, 212), match='1'>\n",
      "<re.Match object; span=(212, 213), match='2'>\n",
      "<re.Match object; span=(213, 214), match='3'>\n",
      "<re.Match object; span=(214, 215), match='4'>\n"
     ]
    }
   ],
   "source": [
    "# Below the - acts as a range\n",
    "search = re.compile(r\"[1-5]\") \n",
    "# If you want a range for characters simply write [a-z] or [a-zA-Z] for all upper and lowers\n",
    "matches = search.finditer(text_to_search)\n",
    "for match in matches:\n",
    "    print(match)"
   ]
  },
  {
   "cell_type": "markdown",
   "metadata": {},
   "source": [
    "### 3.8 Carrot ^ as a NOT when used in [ ]"
   ]
  },
  {
   "cell_type": "code",
   "execution_count": 43,
   "metadata": {},
   "outputs": [
    {
     "name": "stdout",
     "output_type": "stream",
     "text": [
      "<re.Match object; span=(0, 1), match='\\n'>\n",
      "<re.Match object; span=(27, 28), match='\\n'>\n",
      "<re.Match object; span=(28, 29), match='A'>\n",
      "<re.Match object; span=(29, 30), match='B'>\n",
      "<re.Match object; span=(30, 31), match='C'>\n",
      "<re.Match object; span=(31, 32), match='D'>\n",
      "<re.Match object; span=(32, 33), match='E'>\n",
      "<re.Match object; span=(33, 34), match='F'>\n",
      "<re.Match object; span=(34, 35), match='G'>\n",
      "<re.Match object; span=(35, 36), match='H'>\n",
      "<re.Match object; span=(36, 37), match='I'>\n",
      "<re.Match object; span=(37, 38), match='J'>\n",
      "<re.Match object; span=(38, 39), match='K'>\n",
      "<re.Match object; span=(39, 40), match='L'>\n",
      "<re.Match object; span=(40, 41), match='M'>\n",
      "<re.Match object; span=(41, 42), match='N'>\n",
      "<re.Match object; span=(42, 43), match='O'>\n",
      "<re.Match object; span=(43, 44), match='P'>\n",
      "<re.Match object; span=(44, 45), match='Q'>\n",
      "<re.Match object; span=(45, 46), match='R'>\n",
      "<re.Match object; span=(46, 47), match='S'>\n",
      "<re.Match object; span=(47, 48), match='T'>\n",
      "<re.Match object; span=(48, 49), match='U'>\n",
      "<re.Match object; span=(49, 50), match='V'>\n",
      "<re.Match object; span=(50, 51), match='W'>\n",
      "<re.Match object; span=(51, 52), match='X'>\n",
      "<re.Match object; span=(52, 53), match='Y'>\n",
      "<re.Match object; span=(53, 54), match='Z'>\n",
      "<re.Match object; span=(54, 55), match='\\n'>\n",
      "<re.Match object; span=(55, 56), match='1'>\n",
      "<re.Match object; span=(56, 57), match='2'>\n",
      "<re.Match object; span=(57, 58), match='3'>\n",
      "<re.Match object; span=(58, 59), match='4'>\n",
      "<re.Match object; span=(59, 60), match='5'>\n",
      "<re.Match object; span=(60, 61), match='6'>\n",
      "<re.Match object; span=(61, 62), match='7'>\n",
      "<re.Match object; span=(62, 63), match='8'>\n",
      "<re.Match object; span=(63, 64), match='9'>\n",
      "<re.Match object; span=(64, 65), match='0'>\n",
      "<re.Match object; span=(65, 66), match='\\n'>\n",
      "<re.Match object; span=(66, 67), match='H'>\n",
      "<re.Match object; span=(68, 69), match=' '>\n",
      "<re.Match object; span=(69, 70), match='H'>\n",
      "<re.Match object; span=(71, 72), match='H'>\n",
      "<re.Match object; span=(73, 74), match='\\n'>\n",
      "<re.Match object; span=(74, 75), match='C'>\n",
      "<re.Match object; span=(80, 81), match=' '>\n",
      "<re.Match object; span=(81, 82), match='M'>\n",
      "<re.Match object; span=(83, 84), match='C'>\n",
      "<re.Match object; span=(89, 90), match='\\n'>\n",
      "<re.Match object; span=(90, 91), match='M'>\n",
      "<re.Match object; span=(94, 95), match='C'>\n",
      "<re.Match object; span=(104, 105), match=' '>\n",
      "<re.Match object; span=(105, 106), match='('>\n",
      "<re.Match object; span=(106, 107), match='N'>\n",
      "<re.Match object; span=(110, 111), match=' '>\n",
      "<re.Match object; span=(113, 114), match=' '>\n",
      "<re.Match object; span=(116, 117), match=' '>\n",
      "<re.Match object; span=(124, 125), match=')'>\n",
      "<re.Match object; span=(125, 126), match=':'>\n",
      "<re.Match object; span=(126, 127), match='\\n'>\n",
      "<re.Match object; span=(127, 128), match='.'>\n",
      "<re.Match object; span=(128, 129), match=' '>\n",
      "<re.Match object; span=(129, 130), match='^'>\n",
      "<re.Match object; span=(130, 131), match=' '>\n",
      "<re.Match object; span=(131, 132), match='$'>\n",
      "<re.Match object; span=(132, 133), match=' '>\n",
      "<re.Match object; span=(133, 134), match='*'>\n",
      "<re.Match object; span=(134, 135), match=' '>\n",
      "<re.Match object; span=(135, 136), match='+'>\n",
      "<re.Match object; span=(136, 137), match=' '>\n",
      "<re.Match object; span=(137, 138), match='?'>\n",
      "<re.Match object; span=(138, 139), match=' '>\n",
      "<re.Match object; span=(139, 140), match='{'>\n",
      "<re.Match object; span=(140, 141), match=' '>\n",
      "<re.Match object; span=(141, 142), match='}'>\n",
      "<re.Match object; span=(142, 143), match=' '>\n",
      "<re.Match object; span=(143, 144), match='['>\n",
      "<re.Match object; span=(144, 145), match=' '>\n",
      "<re.Match object; span=(145, 146), match=']'>\n",
      "<re.Match object; span=(146, 147), match=' '>\n",
      "<re.Match object; span=(147, 148), match='\\\\'>\n",
      "<re.Match object; span=(148, 149), match=' '>\n",
      "<re.Match object; span=(149, 150), match='|'>\n",
      "<re.Match object; span=(150, 151), match=' '>\n",
      "<re.Match object; span=(151, 152), match='('>\n",
      "<re.Match object; span=(152, 153), match=' '>\n",
      "<re.Match object; span=(153, 154), match=')'>\n",
      "<re.Match object; span=(154, 155), match='\\n'>\n",
      "<re.Match object; span=(162, 163), match='.'>\n",
      "<re.Match object; span=(166, 167), match='\\n'>\n",
      "<re.Match object; span=(167, 168), match='3'>\n",
      "<re.Match object; span=(168, 169), match='2'>\n",
      "<re.Match object; span=(169, 170), match='1'>\n",
      "<re.Match object; span=(170, 171), match='-'>\n",
      "<re.Match object; span=(171, 172), match='5'>\n",
      "<re.Match object; span=(172, 173), match='5'>\n",
      "<re.Match object; span=(173, 174), match='5'>\n",
      "<re.Match object; span=(174, 175), match='-'>\n",
      "<re.Match object; span=(175, 176), match='4'>\n",
      "<re.Match object; span=(176, 177), match='3'>\n",
      "<re.Match object; span=(177, 178), match='2'>\n",
      "<re.Match object; span=(178, 179), match='1'>\n",
      "<re.Match object; span=(179, 180), match='\\n'>\n",
      "<re.Match object; span=(180, 181), match='1'>\n",
      "<re.Match object; span=(181, 182), match='2'>\n",
      "<re.Match object; span=(182, 183), match='3'>\n",
      "<re.Match object; span=(183, 184), match='.'>\n",
      "<re.Match object; span=(184, 185), match='5'>\n",
      "<re.Match object; span=(185, 186), match='5'>\n",
      "<re.Match object; span=(186, 187), match='5'>\n",
      "<re.Match object; span=(187, 188), match='.'>\n",
      "<re.Match object; span=(188, 189), match='1'>\n",
      "<re.Match object; span=(189, 190), match='2'>\n",
      "<re.Match object; span=(190, 191), match='3'>\n",
      "<re.Match object; span=(191, 192), match='4'>\n",
      "<re.Match object; span=(192, 193), match='\\n'>\n",
      "<re.Match object; span=(193, 194), match='1'>\n",
      "<re.Match object; span=(194, 195), match='2'>\n",
      "<re.Match object; span=(195, 196), match='3'>\n",
      "<re.Match object; span=(196, 197), match='*'>\n",
      "<re.Match object; span=(197, 198), match='5'>\n",
      "<re.Match object; span=(198, 199), match='5'>\n",
      "<re.Match object; span=(199, 200), match='5'>\n",
      "<re.Match object; span=(200, 201), match='*'>\n",
      "<re.Match object; span=(201, 202), match='1'>\n",
      "<re.Match object; span=(202, 203), match='2'>\n",
      "<re.Match object; span=(203, 204), match='3'>\n",
      "<re.Match object; span=(204, 205), match='4'>\n",
      "<re.Match object; span=(205, 206), match='\\n'>\n",
      "<re.Match object; span=(206, 207), match='8'>\n",
      "<re.Match object; span=(207, 208), match='0'>\n",
      "<re.Match object; span=(208, 209), match='0'>\n",
      "<re.Match object; span=(209, 210), match='-'>\n",
      "<re.Match object; span=(210, 211), match='5'>\n",
      "<re.Match object; span=(211, 212), match='5'>\n",
      "<re.Match object; span=(212, 213), match='5'>\n",
      "<re.Match object; span=(213, 214), match='-'>\n",
      "<re.Match object; span=(214, 215), match='1'>\n",
      "<re.Match object; span=(215, 216), match='2'>\n",
      "<re.Match object; span=(216, 217), match='3'>\n",
      "<re.Match object; span=(217, 218), match='4'>\n",
      "<re.Match object; span=(218, 219), match='\\n'>\n",
      "<re.Match object; span=(219, 220), match='9'>\n",
      "<re.Match object; span=(220, 221), match='0'>\n",
      "<re.Match object; span=(221, 222), match='0'>\n",
      "<re.Match object; span=(222, 223), match='-'>\n",
      "<re.Match object; span=(223, 224), match='5'>\n",
      "<re.Match object; span=(224, 225), match='5'>\n",
      "<re.Match object; span=(225, 226), match='5'>\n",
      "<re.Match object; span=(226, 227), match='-'>\n",
      "<re.Match object; span=(227, 228), match='1'>\n",
      "<re.Match object; span=(228, 229), match='2'>\n",
      "<re.Match object; span=(229, 230), match='3'>\n",
      "<re.Match object; span=(230, 231), match='4'>\n",
      "<re.Match object; span=(231, 232), match='\\n'>\n",
      "<re.Match object; span=(232, 233), match='M'>\n",
      "<re.Match object; span=(234, 235), match='.'>\n",
      "<re.Match object; span=(235, 236), match=' '>\n",
      "<re.Match object; span=(236, 237), match='S'>\n",
      "<re.Match object; span=(243, 244), match='\\n'>\n",
      "<re.Match object; span=(244, 245), match='M'>\n",
      "<re.Match object; span=(246, 247), match=' '>\n",
      "<re.Match object; span=(247, 248), match='S'>\n",
      "<re.Match object; span=(252, 253), match='\\n'>\n",
      "<re.Match object; span=(253, 254), match='M'>\n",
      "<re.Match object; span=(255, 256), match=' '>\n",
      "<re.Match object; span=(256, 257), match='D'>\n",
      "<re.Match object; span=(261, 262), match='\\n'>\n",
      "<re.Match object; span=(262, 263), match='M'>\n",
      "<re.Match object; span=(265, 266), match='.'>\n",
      "<re.Match object; span=(266, 267), match=' '>\n",
      "<re.Match object; span=(267, 268), match='R'>\n",
      "<re.Match object; span=(275, 276), match='\\n'>\n",
      "<re.Match object; span=(276, 277), match='M'>\n",
      "<re.Match object; span=(278, 279), match='.'>\n",
      "<re.Match object; span=(279, 280), match=' '>\n",
      "<re.Match object; span=(280, 281), match='T'>\n",
      "<re.Match object; span=(281, 282), match='\\n'>\n"
     ]
    }
   ],
   "source": [
    "# Below the - acts as a range\n",
    "search = re.compile(r\"[^a-z]\") \n",
    "# If you want a range for characters simply write [a-z] or [a-zA-Z] for all upper and lowers\n",
    "matches = search.finditer(text_to_search)\n",
    "for match in matches:\n",
    "    print(match)"
   ]
  },
  {
   "cell_type": "markdown",
   "metadata": {},
   "source": [
    "### 3.9 Skipping \"bat\" and only fetching \"cat, mat, rat\""
   ]
  },
  {
   "cell_type": "code",
   "execution_count": 45,
   "metadata": {},
   "outputs": [
    {
     "name": "stdout",
     "output_type": "stream",
     "text": [
      "<re.Match object; span=(232, 235), match='cat'>\n",
      "<re.Match object; span=(236, 239), match='mat'>\n",
      "<re.Match object; span=(240, 243), match='rat'>\n"
     ]
    }
   ],
   "source": [
    "search = re.compile(r\"[^b]at\") \n",
    "matches = search.finditer(text_to_search)\n",
    "for match in matches:\n",
    "    print(match)"
   ]
  },
  {
   "cell_type": "markdown",
   "metadata": {},
   "source": [
    "### 3.10 Using exact number of times { } to simplify our code"
   ]
  },
  {
   "cell_type": "code",
   "execution_count": 70,
   "metadata": {},
   "outputs": [
    {
     "name": "stdout",
     "output_type": "stream",
     "text": [
      "<re.Match object; span=(12, 24), match='615-555-7164'>\n",
      "<re.Match object; span=(102, 114), match='800-555-5669'>\n",
      "<re.Match object; span=(191, 203), match='560-555-5153'>\n",
      "<re.Match object; span=(281, 293), match='900-555-9340'>\n",
      "<re.Match object; span=(378, 390), match='714-555-7405'>\n",
      "<re.Match object; span=(467, 479), match='800-555-6771'>\n",
      "<re.Match object; span=(557, 569), match='783-555-4799'>\n",
      "<re.Match object; span=(647, 659), match='516-555-4615'>\n",
      "<re.Match object; span=(740, 752), match='127-555-1867'>\n",
      "<re.Match object; span=(831, 843), match='608-555-4938'>\n",
      "<re.Match object; span=(917, 929), match='568-555-6051'>\n",
      "<re.Match object; span=(1005, 1017), match='292-555-1875'>\n",
      "<re.Match object; span=(1093, 1105), match='900-555-3205'>\n",
      "<re.Match object; span=(1182, 1194), match='614-555-1166'>\n",
      "<re.Match object; span=(1273, 1285), match='530-555-2676'>\n",
      "<re.Match object; span=(1359, 1371), match='470-555-2750'>\n",
      "<re.Match object; span=(1443, 1455), match='800-555-6089'>\n",
      "<re.Match object; span=(1530, 1542), match='880-555-8319'>\n",
      "<re.Match object; span=(1618, 1630), match='777-555-8378'>\n",
      "<re.Match object; span=(1701, 1713), match='998-555-7385'>\n",
      "<re.Match object; span=(1794, 1806), match='800-555-7100'>\n",
      "<re.Match object; span=(1878, 1890), match='903-555-8277'>\n",
      "<re.Match object; span=(1966, 1978), match='196-555-5674'>\n",
      "<re.Match object; span=(2055, 2067), match='900-555-5118'>\n",
      "<re.Match object; span=(2139, 2151), match='905-555-1630'>\n",
      "<re.Match object; span=(2220, 2232), match='203-555-3475'>\n",
      "<re.Match object; span=(2304, 2316), match='884-555-8444'>\n",
      "<re.Match object; span=(2391, 2403), match='904-555-8559'>\n",
      "<re.Match object; span=(2479, 2491), match='889-555-7393'>\n",
      "<re.Match object; span=(2566, 2578), match='195-555-2405'>\n",
      "<re.Match object; span=(2651, 2663), match='321-555-9053'>\n",
      "<re.Match object; span=(2738, 2750), match='133-555-1711'>\n",
      "<re.Match object; span=(2830, 2842), match='900-555-5428'>\n",
      "<re.Match object; span=(2919, 2931), match='760-555-7147'>\n",
      "<re.Match object; span=(3018, 3030), match='391-555-6621'>\n",
      "<re.Match object; span=(3109, 3121), match='932-555-7724'>\n",
      "<re.Match object; span=(3198, 3210), match='609-555-7908'>\n",
      "<re.Match object; span=(3290, 3302), match='800-555-8810'>\n",
      "<re.Match object; span=(3378, 3390), match='149-555-7657'>\n",
      "<re.Match object; span=(3458, 3470), match='130-555-9709'>\n",
      "<re.Match object; span=(3541, 3553), match='143-555-9295'>\n",
      "<re.Match object; span=(3630, 3642), match='903-555-9878'>\n",
      "<re.Match object; span=(3720, 3732), match='574-555-3194'>\n",
      "<re.Match object; span=(3808, 3820), match='496-555-7533'>\n",
      "<re.Match object; span=(3893, 3905), match='210-555-3757'>\n",
      "<re.Match object; span=(3977, 3989), match='900-555-9598'>\n",
      "<re.Match object; span=(4062, 4074), match='866-555-9844'>\n",
      "<re.Match object; span=(4146, 4158), match='669-555-7159'>\n",
      "<re.Match object; span=(4231, 4243), match='152-555-7417'>\n",
      "<re.Match object; span=(4323, 4335), match='893-555-9832'>\n",
      "<re.Match object; span=(4413, 4425), match='217-555-7123'>\n",
      "<re.Match object; span=(4504, 4516), match='786-555-6544'>\n",
      "<re.Match object; span=(4594, 4606), match='780-555-2574'>\n",
      "<re.Match object; span=(4682, 4694), match='926-555-8735'>\n",
      "<re.Match object; span=(4768, 4780), match='895-555-3539'>\n",
      "<re.Match object; span=(4865, 4877), match='874-555-3949'>\n",
      "<re.Match object; span=(4951, 4963), match='800-555-2420'>\n",
      "<re.Match object; span=(5040, 5052), match='936-555-6340'>\n",
      "<re.Match object; span=(5129, 5141), match='372-555-9809'>\n",
      "<re.Match object; span=(5216, 5228), match='890-555-5618'>\n",
      "<re.Match object; span=(5298, 5310), match='670-555-3005'>\n",
      "<re.Match object; span=(5388, 5400), match='509-555-5997'>\n",
      "<re.Match object; span=(5481, 5493), match='721-555-5632'>\n",
      "<re.Match object; span=(5572, 5584), match='900-555-3567'>\n",
      "<re.Match object; span=(5662, 5674), match='147-555-6830'>\n",
      "<re.Match object; span=(5751, 5763), match='582-555-3426'>\n",
      "<re.Match object; span=(5836, 5848), match='400-555-1706'>\n",
      "<re.Match object; span=(5927, 5939), match='525-555-1793'>\n",
      "<re.Match object; span=(6017, 6029), match='317-555-6700'>\n",
      "<re.Match object; span=(6105, 6117), match='974-555-8301'>\n",
      "<re.Match object; span=(6195, 6207), match='800-555-3216'>\n",
      "<re.Match object; span=(6281, 6293), match='746-555-4094'>\n",
      "<re.Match object; span=(6368, 6380), match='922-555-1773'>\n",
      "<re.Match object; span=(6453, 6465), match='711-555-4427'>\n",
      "<re.Match object; span=(6538, 6550), match='355-555-1872'>\n",
      "<re.Match object; span=(6627, 6639), match='852-555-6521'>\n",
      "<re.Match object; span=(6719, 6731), match='691-555-5773'>\n",
      "<re.Match object; span=(6811, 6823), match='332-555-5441'>\n",
      "<re.Match object; span=(6897, 6909), match='900-555-7755'>\n",
      "<re.Match object; span=(6979, 6991), match='379-555-3685'>\n",
      "<re.Match object; span=(7069, 7081), match='127-555-9682'>\n",
      "<re.Match object; span=(7160, 7172), match='789-555-7032'>\n",
      "<re.Match object; span=(7251, 7263), match='783-555-5135'>\n",
      "<re.Match object; span=(7344, 7356), match='315-555-6507'>\n",
      "<re.Match object; span=(7435, 7447), match='481-555-5835'>\n",
      "<re.Match object; span=(7523, 7535), match='365-555-8287'>\n",
      "<re.Match object; span=(7615, 7627), match='911-555-7535'>\n",
      "<re.Match object; span=(7701, 7713), match='681-555-2460'>\n",
      "<re.Match object; span=(7787, 7799), match='274-555-9800'>\n",
      "<re.Match object; span=(7872, 7884), match='800-555-1372'>\n",
      "<re.Match object; span=(7961, 7973), match='300-555-7821'>\n",
      "<re.Match object; span=(8051, 8063), match='133-555-3889'>\n",
      "<re.Match object; span=(8139, 8151), match='705-555-6863'>\n",
      "<re.Match object; span=(8228, 8240), match='215-555-9449'>\n",
      "<re.Match object; span=(8319, 8331), match='988-555-6112'>\n",
      "<re.Match object; span=(8405, 8417), match='623-555-3006'>\n",
      "<re.Match object; span=(8489, 8501), match='192-555-4977'>\n",
      "<re.Match object; span=(8574, 8586), match='178-555-4899'>\n",
      "<re.Match object; span=(8658, 8670), match='952-555-3089'>\n",
      "<re.Match object; span=(8751, 8763), match='900-555-6426'>\n"
     ]
    }
   ],
   "source": [
    "with open(\"data.txt\", \"r\") as f:\n",
    "    read = f.read()\n",
    "    # Instead of multiple \\d\\d\\d we used \\d{3}\n",
    "    search = re.compile(r\"\\d{3}.\\d{3}.\\d{4}\") \n",
    "    matches = search.finditer(read)\n",
    "    for match in matches:\n",
    "        print(match)\n",
    "    f.close()"
   ]
  },
  {
   "cell_type": "markdown",
   "metadata": {},
   "source": [
    "### 3.11 Fetching Mr Name from the text"
   ]
  },
  {
   "cell_type": "code",
   "execution_count": 58,
   "metadata": {},
   "outputs": [
    {
     "name": "stdout",
     "output_type": "stream",
     "text": [
      "<re.Match object; span=(248, 259), match='Mr. Schafer'>\n",
      "<re.Match object; span=(260, 268), match='Mr Smith'>\n",
      "<re.Match object; span=(292, 297), match='Mr. T'>\n"
     ]
    }
   ],
   "source": [
    "# Using ? to get 0 or 1 quantity of dot \".\"\n",
    "# \\s is whitespace\n",
    "# \\w is all a-z, A-Z, _\n",
    "# Asterick * means 0 or more quantity afterwards\n",
    "search = re.compile(r\"Mr\\.?\\s\\w*\") \n",
    "matches = search.finditer(text_to_search)\n",
    "for match in matches:\n",
    "    print(match)"
   ]
  },
  {
   "cell_type": "markdown",
   "metadata": {},
   "source": [
    "### 3.12 Fetching Mr and Mrs Name from the text"
   ]
  },
  {
   "cell_type": "code",
   "execution_count": 60,
   "metadata": {},
   "outputs": [
    {
     "name": "stdout",
     "output_type": "stream",
     "text": [
      "<re.Match object; span=(248, 259), match='Mr. Schafer'>\n",
      "<re.Match object; span=(260, 268), match='Mr Smith'>\n",
      "<re.Match object; span=(269, 277), match='Ms Davis'>\n",
      "<re.Match object; span=(278, 291), match='Mrs. Robinson'>\n",
      "<re.Match object; span=(292, 297), match='Mr. T'>\n"
     ]
    }
   ],
   "source": [
    "# | is OR\n",
    "# ( ) is a group\n",
    "search = re.compile(r\"M(r|s|rs)\\.?\\s\\w*\") # Another way (Mr|Ms|Mrs)\n",
    "matches = search.finditer(text_to_search)\n",
    "for match in matches:\n",
    "    print(match)"
   ]
  },
  {
   "cell_type": "markdown",
   "metadata": {},
   "source": [
    "## 4- Practical Implementation"
   ]
  },
  {
   "cell_type": "markdown",
   "metadata": {},
   "source": [
    "### 4.1 Fetch all the email addresses"
   ]
  },
  {
   "cell_type": "code",
   "execution_count": 105,
   "metadata": {},
   "outputs": [
    {
     "name": "stdout",
     "output_type": "stream",
     "text": [
      "<re.Match object; span=(1, 24), match='CoreyMSchafer@gmail.com'>\n",
      "<re.Match object; span=(25, 53), match='corey.schafer@university.edu'>\n",
      "<re.Match object; span=(54, 83), match='corey-321-schafer@my-work.net'>\n"
     ]
    }
   ],
   "source": [
    "emails = '''\n",
    "CoreyMSchafer@gmail.com\n",
    "corey.schafer@university.edu\n",
    "corey-321-schafer@my-work.net\n",
    "'''\n",
    "\n",
    "search = re.compile(r\".*@.*(\\w|\\.)*\")\n",
    "matches = search.finditer(emails)\n",
    "for match in matches:\n",
    "    print(match)"
   ]
  },
  {
   "cell_type": "markdown",
   "metadata": {},
   "source": [
    "### 4.2 Replace URLS with domain name and top domain level only"
   ]
  },
  {
   "cell_type": "code",
   "execution_count": 57,
   "metadata": {},
   "outputs": [
    {
     "name": "stdout",
     "output_type": "stream",
     "text": [
      "google.com\n",
      "coreyms.com\n",
      "youtube.com\n",
      "nasa.gov\n"
     ]
    }
   ],
   "source": [
    "urls = '''\n",
    "https://www.google.com\n",
    "http://coreyms.com\n",
    "https://youtube.com\n",
    "https://www.nasa.gov\n",
    "'''\n",
    "\n",
    "pattern = re.compile(r\"https?://(www\\.)?(\\w+\\.\\w+)\")\n",
    "\n",
    "matches = pattern.finditer(urls)\n",
    "\n",
    "for match in matches:\n",
    "    # group 2 is the group we created in the compile function at the last (\\w+\\.\\w+)\n",
    "    print(match.group(2))"
   ]
  },
  {
   "cell_type": "code",
   "execution_count": 62,
   "metadata": {},
   "outputs": [
    {
     "name": "stdout",
     "output_type": "stream",
     "text": [
      "\n",
      "google.com\n",
      "coreyms.com\n",
      "youtube.com\n",
      "nasa.gov\n",
      "\n"
     ]
    }
   ],
   "source": [
    "pattern = re.compile(r\"https?://(www\\.)?(\\w+\\.\\w+)\")\n",
    "# substitute URLS with group 2\n",
    "subbed_urls = pattern.sub(r\"\\2\", urls)\n",
    "\n",
    "print(subbed_urls)"
   ]
  },
  {
   "cell_type": "markdown",
   "metadata": {},
   "source": [
    "### 4.3 Use Different functions of Regex"
   ]
  },
  {
   "cell_type": "markdown",
   "metadata": {},
   "source": [
    "#### Findall function"
   ]
  },
  {
   "cell_type": "code",
   "execution_count": 70,
   "metadata": {},
   "outputs": [
    {
     "name": "stdout",
     "output_type": "stream",
     "text": [
      "321-555-4321\n",
      "123.555.1234\n",
      "123*555*1234\n",
      "800-555-1234\n",
      "900-555-1234\n"
     ]
    }
   ],
   "source": [
    "# Findall.....it only fetches the pattern and not the indices along with it\n",
    "search = re.compile(r\"\\d{3}.\\d{3}.\\d{4}\")\n",
    "matches = search.findall(text_to_search)\n",
    "for match in matches:\n",
    "    print(match)"
   ]
  },
  {
   "cell_type": "markdown",
   "metadata": {},
   "source": [
    "#### Finditer function"
   ]
  },
  {
   "cell_type": "code",
   "execution_count": 75,
   "metadata": {},
   "outputs": [
    {
     "name": "stdout",
     "output_type": "stream",
     "text": [
      "<re.Match object; span=(167, 179), match='321-555-4321'>\n",
      "<re.Match object; span=(180, 192), match='123.555.1234'>\n",
      "<re.Match object; span=(193, 205), match='123*555*1234'>\n",
      "<re.Match object; span=(206, 218), match='800-555-1234'>\n",
      "<re.Match object; span=(219, 231), match='900-555-1234'>\n"
     ]
    }
   ],
   "source": [
    "# Finditer.....its fetches the indices of the pattern\n",
    "search = re.compile(r\"\\d{3}.\\d{3}.\\d{4}\")\n",
    "matches = search.finditer(text_to_search)\n",
    "for match in matches:\n",
    "    print(match)"
   ]
  },
  {
   "cell_type": "markdown",
   "metadata": {},
   "source": [
    "#### Match function"
   ]
  },
  {
   "cell_type": "code",
   "execution_count": 89,
   "metadata": {},
   "outputs": [
    {
     "name": "stdout",
     "output_type": "stream",
     "text": [
      "<re.Match object; span=(0, 2), match='My'>\n"
     ]
    }
   ],
   "source": [
    "# Match.....Fetches only one pattern from beginning of a string. Not iterable\n",
    "sentence = \"My name is Arsalan Ali\"\n",
    "search = re.compile(r\"My\")\n",
    "matches = search.match(sentence)\n",
    "print(matches)"
   ]
  },
  {
   "cell_type": "markdown",
   "metadata": {},
   "source": [
    "#### Search function"
   ]
  },
  {
   "cell_type": "code",
   "execution_count": 90,
   "metadata": {},
   "outputs": [
    {
     "name": "stdout",
     "output_type": "stream",
     "text": [
      "<re.Match object; span=(11, 18), match='Arsalan'>\n"
     ]
    }
   ],
   "source": [
    "# Search.....Fetches only one pattern from anywhere in the string. Not iterable\n",
    "sentence = \"My name is Arsalan Ali\"\n",
    "search = re.compile(r\"Arsalan\")\n",
    "matches = search.search(sentence)\n",
    "print(matches)"
   ]
  },
  {
   "cell_type": "markdown",
   "metadata": {},
   "source": [
    "#### Flags in Regular Expressions\n",
    "* **IGNORECASE:** Ignores the case sensitivity of a string\n",
    "* **I:** Its the same as IGNORECASE"
   ]
  },
  {
   "cell_type": "code",
   "execution_count": 91,
   "metadata": {},
   "outputs": [
    {
     "name": "stdout",
     "output_type": "stream",
     "text": [
      "<re.Match object; span=(11, 18), match='Arsalan'>\n"
     ]
    }
   ],
   "source": [
    "sentence = \"My name is Arsalan Ali\"\n",
    "search = re.compile(r\"arsalan\", re.I)\n",
    "matches = search.search(sentence)\n",
    "print(matches)"
   ]
  },
  {
   "cell_type": "code",
   "execution_count": 93,
   "metadata": {},
   "outputs": [
    {
     "name": "stdout",
     "output_type": "stream",
     "text": [
      "321-555-432\n",
      "123.555.123\n",
      "123*555*123\n",
      "800-555-123\n",
      "900-555-123\n"
     ]
    }
   ],
   "source": [
    "search = re.compile(r\"\\d\\d\\d[-.*]\\d\\d\\d[-.*]\\d\\d\\d\") \n",
    "matches = search.findall(text_to_search)\n",
    "for match in matches:\n",
    "    print(match)"
   ]
  },
  {
   "cell_type": "code",
   "execution_count": null,
   "metadata": {},
   "outputs": [],
   "source": []
  }
 ],
 "metadata": {
  "kernelspec": {
   "display_name": "Python 3.9.0 64-bit",
   "language": "python",
   "name": "python3"
  },
  "language_info": {
   "codemirror_mode": {
    "name": "ipython",
    "version": 3
   },
   "file_extension": ".py",
   "mimetype": "text/x-python",
   "name": "python",
   "nbconvert_exporter": "python",
   "pygments_lexer": "ipython3",
   "version": "3.9.0"
  },
  "orig_nbformat": 4,
  "vscode": {
   "interpreter": {
    "hash": "1b9831d9816789c8997861afaa03a4b39d7e774215d5da77d8c296823abbbe57"
   }
  }
 },
 "nbformat": 4,
 "nbformat_minor": 2
}
